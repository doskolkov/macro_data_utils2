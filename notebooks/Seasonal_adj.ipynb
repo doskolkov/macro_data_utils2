{
 "cells": [
  {
   "cell_type": "code",
   "execution_count": 1,
   "id": "703e21a4-4b74-4f51-81f3-eef91beb6c3b",
   "metadata": {},
   "outputs": [],
   "source": [
    "%load_ext autoreload\n",
    "%autoreload 2"
   ]
  },
  {
   "cell_type": "code",
   "execution_count": 2,
   "id": "9233a426-9a33-46d3-a770-154cc76331bd",
   "metadata": {},
   "outputs": [],
   "source": [
    "import pandas as pd\n",
    "from sklearn.linear_model import LinearRegression\n",
    "from sklearn.model_selection import train_test_split\n",
    "from sklearn.metrics import mean_squared_error\n",
    "import matplotlib.pyplot as plt\n",
    "\n",
    "import pandas as pd\n",
    "from pathlib import Path\n",
    "from DataManage.Utils.Utils import *\n",
    "\n",
    "import pandas as pd\n",
    "import statsmodels.api as sm\n",
    "from statsmodels.tsa.x13 import x13_arima_analysis\n",
    "\n",
    "#import DataManage as dm"
   ]
  },
  {
   "cell_type": "code",
   "execution_count": 21,
   "id": "c8ab9d2d-5c7f-4119-8697-e46058720b48",
   "metadata": {},
   "outputs": [],
   "source": [
    "DATA_PATH = Path('../data')\n",
    "\n",
    "RAW_DATA_PATH = DATA_PATH / 'raw'\n",
    "PROC_DATA_PATH = DATA_PATH / 'processed'\n",
    "EXT_DATA_PATH = DATA_PATH / 'external'\n",
    "SQL_DATA_PATH = DATA_PATH / 'sql'\n",
    "\n",
    "import_file = 'data_sa.xlsx'\n",
    "import_file_path = RAW_DATA_PATH/import_file"
   ]
  },
  {
   "cell_type": "code",
   "execution_count": 22,
   "id": "a7afd2f0-7ea9-4b08-8298-547a37586342",
   "metadata": {},
   "outputs": [],
   "source": [
    "# Load the data from the respective sheets\n",
    "quarterly_data = pd.read_excel(import_file_path, sheet_name=\"quarterly\")\n",
    "calendar_data = pd.read_excel(import_file_path, sheet_name=\"calendar\")\n",
    "\n",
    "# Merging the data based on the date\n",
    "#merged_data = pd.merge(quarterly_data, calendar_data, left_on=\"Date\", right_on=\"date\", how=\"left\")\n",
    "#merged_data.drop(columns=\"date\", inplace=True)  # Dropping duplicate date column\n"
   ]
  },
  {
   "cell_type": "code",
   "execution_count": 28,
   "id": "6c2d656c-e35e-408a-b39c-99223d1fa4db",
   "metadata": {},
   "outputs": [
    {
     "data": {
      "text/html": [
       "<div>\n",
       "<style scoped>\n",
       "    .dataframe tbody tr th:only-of-type {\n",
       "        vertical-align: middle;\n",
       "    }\n",
       "\n",
       "    .dataframe tbody tr th {\n",
       "        vertical-align: top;\n",
       "    }\n",
       "\n",
       "    .dataframe thead th {\n",
       "        text-align: right;\n",
       "    }\n",
       "</style>\n",
       "<table border=\"1\" class=\"dataframe\">\n",
       "  <thead>\n",
       "    <tr style=\"text-align: right;\">\n",
       "      <th></th>\n",
       "      <th>REER</th>\n",
       "      <th>Urals_USD</th>\n",
       "      <th>GDP_real</th>\n",
       "      <th>GDP_nominal_R</th>\n",
       "      <th>GDP_nominal_USD</th>\n",
       "      <th>Trade_balance_USD</th>\n",
       "      <th>Export_price_index</th>\n",
       "      <th>Import_price_index</th>\n",
       "      <th>Employment_mln</th>\n",
       "      <th>Productivity</th>\n",
       "      <th>...</th>\n",
       "      <th>Fed_bud_balance_R_bln</th>\n",
       "      <th>Cons_bud_balance_R_bln</th>\n",
       "      <th>M2</th>\n",
       "      <th>Gov_net_assets_CBR</th>\n",
       "      <th>FX_reserves</th>\n",
       "      <th>Imp_q</th>\n",
       "      <th>Public_ext_debt_bln_USD</th>\n",
       "      <th>Tot_cap_out</th>\n",
       "      <th>Minfin_bud_rule_int</th>\n",
       "      <th>CBR_bud_rule_int_GDP</th>\n",
       "    </tr>\n",
       "    <tr>\n",
       "      <th>Date</th>\n",
       "      <th></th>\n",
       "      <th></th>\n",
       "      <th></th>\n",
       "      <th></th>\n",
       "      <th></th>\n",
       "      <th></th>\n",
       "      <th></th>\n",
       "      <th></th>\n",
       "      <th></th>\n",
       "      <th></th>\n",
       "      <th></th>\n",
       "      <th></th>\n",
       "      <th></th>\n",
       "      <th></th>\n",
       "      <th></th>\n",
       "      <th></th>\n",
       "      <th></th>\n",
       "      <th></th>\n",
       "      <th></th>\n",
       "      <th></th>\n",
       "      <th></th>\n",
       "    </tr>\n",
       "  </thead>\n",
       "  <tbody>\n",
       "    <tr>\n",
       "      <th>2022-03-01</th>\n",
       "      <td>108.582975</td>\n",
       "      <td>88.946667</td>\n",
       "      <td>30719.376666</td>\n",
       "      <td>36398.5</td>\n",
       "      <td>429.563444</td>\n",
       "      <td>82.993</td>\n",
       "      <td>1.488364</td>\n",
       "      <td>1.215221</td>\n",
       "      <td>71.533333</td>\n",
       "      <td>429.441426</td>\n",
       "      <td>...</td>\n",
       "      <td>1303.487281</td>\n",
       "      <td>10517.508071</td>\n",
       "      <td>66724.500000</td>\n",
       "      <td>184.903804</td>\n",
       "      <td>617916.333333</td>\n",
       "      <td>69790</td>\n",
       "      <td>53.26607</td>\n",
       "      <td>81.54634</td>\n",
       "      <td>15.929096</td>\n",
       "      <td>3.549697</td>\n",
       "    </tr>\n",
       "    <tr>\n",
       "      <th>2022-06-01</th>\n",
       "      <td>149.953088</td>\n",
       "      <td>78.860000</td>\n",
       "      <td>31247.195933</td>\n",
       "      <td>36540.2</td>\n",
       "      <td>553.592422</td>\n",
       "      <td>94.118</td>\n",
       "      <td>1.248155</td>\n",
       "      <td>0.928894</td>\n",
       "      <td>71.933333</td>\n",
       "      <td>434.391046</td>\n",
       "      <td>...</td>\n",
       "      <td>178.833488</td>\n",
       "      <td>12971.205526</td>\n",
       "      <td>69030.638331</td>\n",
       "      <td>175.826713</td>\n",
       "      <td>588198.666667</td>\n",
       "      <td>56785</td>\n",
       "      <td>74.56846</td>\n",
       "      <td>75.52167</td>\n",
       "      <td>0.000000</td>\n",
       "      <td>0.000000</td>\n",
       "    </tr>\n",
       "    <tr>\n",
       "      <th>2022-09-01</th>\n",
       "      <td>169.446990</td>\n",
       "      <td>73.796667</td>\n",
       "      <td>33447.769580</td>\n",
       "      <td>38245.1</td>\n",
       "      <td>643.852567</td>\n",
       "      <td>72.622</td>\n",
       "      <td>1.170757</td>\n",
       "      <td>0.914876</td>\n",
       "      <td>72.233333</td>\n",
       "      <td>463.051725</td>\n",
       "      <td>...</td>\n",
       "      <td>-1279.669012</td>\n",
       "      <td>12930.240020</td>\n",
       "      <td>73085.166667</td>\n",
       "      <td>151.733131</td>\n",
       "      <td>561084.000000</td>\n",
       "      <td>68822</td>\n",
       "      <td>66.89940</td>\n",
       "      <td>45.72339</td>\n",
       "      <td>0.000000</td>\n",
       "      <td>0.000000</td>\n",
       "    </tr>\n",
       "    <tr>\n",
       "      <th>2022-12-01</th>\n",
       "      <td>161.482981</td>\n",
       "      <td>62.520000</td>\n",
       "      <td>37080.416742</td>\n",
       "      <td>42251.4</td>\n",
       "      <td>677.921665</td>\n",
       "      <td>58.242</td>\n",
       "      <td>1.038425</td>\n",
       "      <td>0.949671</td>\n",
       "      <td>72.200000</td>\n",
       "      <td>513.579179</td>\n",
       "      <td>...</td>\n",
       "      <td>-3497.286553</td>\n",
       "      <td>18763.000626</td>\n",
       "      <td>78299.266667</td>\n",
       "      <td>144.067323</td>\n",
       "      <td>565490.666667</td>\n",
       "      <td>81314</td>\n",
       "      <td>46.10397</td>\n",
       "      <td>40.53845</td>\n",
       "      <td>0.000000</td>\n",
       "      <td>0.000000</td>\n",
       "    </tr>\n",
       "    <tr>\n",
       "      <th>2023-03-01</th>\n",
       "      <td>134.676807</td>\n",
       "      <td>48.963333</td>\n",
       "      <td>30165.086506</td>\n",
       "      <td>35999.1</td>\n",
       "      <td>495.057552</td>\n",
       "      <td>30.228</td>\n",
       "      <td>NaN</td>\n",
       "      <td>NaN</td>\n",
       "      <td>72.900000</td>\n",
       "      <td>413.787195</td>\n",
       "      <td>...</td>\n",
       "      <td>-2085.758159</td>\n",
       "      <td>13422.223524</td>\n",
       "      <td>83663.666667</td>\n",
       "      <td>107.190440</td>\n",
       "      <td>588387.000000</td>\n",
       "      <td>74327</td>\n",
       "      <td>40.43531</td>\n",
       "      <td>19.90928</td>\n",
       "      <td>-4.556258</td>\n",
       "      <td>-4.169571</td>\n",
       "    </tr>\n",
       "  </tbody>\n",
       "</table>\n",
       "<p>5 rows × 23 columns</p>\n",
       "</div>"
      ],
      "text/plain": [
       "                  REER  Urals_USD      GDP_real  GDP_nominal_R  \\\n",
       "Date                                                             \n",
       "2022-03-01  108.582975  88.946667  30719.376666        36398.5   \n",
       "2022-06-01  149.953088  78.860000  31247.195933        36540.2   \n",
       "2022-09-01  169.446990  73.796667  33447.769580        38245.1   \n",
       "2022-12-01  161.482981  62.520000  37080.416742        42251.4   \n",
       "2023-03-01  134.676807  48.963333  30165.086506        35999.1   \n",
       "\n",
       "            GDP_nominal_USD  Trade_balance_USD  Export_price_index  \\\n",
       "Date                                                                 \n",
       "2022-03-01       429.563444             82.993            1.488364   \n",
       "2022-06-01       553.592422             94.118            1.248155   \n",
       "2022-09-01       643.852567             72.622            1.170757   \n",
       "2022-12-01       677.921665             58.242            1.038425   \n",
       "2023-03-01       495.057552             30.228                 NaN   \n",
       "\n",
       "            Import_price_index  Employment_mln  Productivity  ...  \\\n",
       "Date                                                          ...   \n",
       "2022-03-01            1.215221       71.533333    429.441426  ...   \n",
       "2022-06-01            0.928894       71.933333    434.391046  ...   \n",
       "2022-09-01            0.914876       72.233333    463.051725  ...   \n",
       "2022-12-01            0.949671       72.200000    513.579179  ...   \n",
       "2023-03-01                 NaN       72.900000    413.787195  ...   \n",
       "\n",
       "            Fed_bud_balance_R_bln  Cons_bud_balance_R_bln            M2  \\\n",
       "Date                                                                      \n",
       "2022-03-01            1303.487281            10517.508071  66724.500000   \n",
       "2022-06-01             178.833488            12971.205526  69030.638331   \n",
       "2022-09-01           -1279.669012            12930.240020  73085.166667   \n",
       "2022-12-01           -3497.286553            18763.000626  78299.266667   \n",
       "2023-03-01           -2085.758159            13422.223524  83663.666667   \n",
       "\n",
       "            Gov_net_assets_CBR    FX_reserves  Imp_q  Public_ext_debt_bln_USD  \\\n",
       "Date                                                                            \n",
       "2022-03-01          184.903804  617916.333333  69790                 53.26607   \n",
       "2022-06-01          175.826713  588198.666667  56785                 74.56846   \n",
       "2022-09-01          151.733131  561084.000000  68822                 66.89940   \n",
       "2022-12-01          144.067323  565490.666667  81314                 46.10397   \n",
       "2023-03-01          107.190440  588387.000000  74327                 40.43531   \n",
       "\n",
       "            Tot_cap_out  Minfin_bud_rule_int  CBR_bud_rule_int_GDP  \n",
       "Date                                                                \n",
       "2022-03-01     81.54634            15.929096              3.549697  \n",
       "2022-06-01     75.52167             0.000000              0.000000  \n",
       "2022-09-01     45.72339             0.000000              0.000000  \n",
       "2022-12-01     40.53845             0.000000              0.000000  \n",
       "2023-03-01     19.90928            -4.556258             -4.169571  \n",
       "\n",
       "[5 rows x 23 columns]"
      ]
     },
     "execution_count": 28,
     "metadata": {},
     "output_type": "execute_result"
    }
   ],
   "source": [
    "quarterly_data = (quarterly_data.dropna(subset=['GDP_nominal_R'])\n",
    "                  .set_index('Date')\n",
    "                 )\n",
    "quarterly_data.tail()"
   ]
  },
  {
   "cell_type": "code",
   "execution_count": 29,
   "id": "6ee42a4b-4529-4e13-b3c7-0509d0e41e12",
   "metadata": {},
   "outputs": [],
   "source": [
    "x13_path = '/Users/qnx/MyProjects/Projects/Python/x13as_asciisrc-v1-1-b60/'\n",
    "X13PATH=x13_path\n",
    "\n",
    "x13_result = x13_arima_analysis(quarterly_data[['GDP_nominal_R']],\n",
    "                                    x12path=x13_path  # Provide the path to your x13as binary\n",
    "                                    )"
   ]
  },
  {
   "cell_type": "code",
   "execution_count": 31,
   "id": "c0aeb49e-8533-409a-8689-c90e5ad9ba54",
   "metadata": {},
   "outputs": [
    {
     "data": {
      "text/plain": [
       "Date\n",
       "2002-03-01     2665.309425\n",
       "2002-06-01     2841.824082\n",
       "2002-09-01     3082.672421\n",
       "2002-12-01     3166.880705\n",
       "2003-03-01     3361.797084\n",
       "                  ...     \n",
       "2022-03-01    39350.525299\n",
       "2022-06-01    37682.135903\n",
       "2022-09-01    37876.355677\n",
       "2022-12-01    38608.071775\n",
       "2023-03-01    38813.603812\n",
       "Name: seasadj, Length: 85, dtype: float64"
      ]
     },
     "execution_count": 31,
     "metadata": {},
     "output_type": "execute_result"
    }
   ],
   "source": [
    "x13_result.seasadj"
   ]
  },
  {
   "cell_type": "code",
   "execution_count": 33,
   "id": "e7c99a20-f274-419d-bf98-ff4470775721",
   "metadata": {},
   "outputs": [
    {
     "data": {
      "image/png": "[encoded data removed]",
      "text/plain": [
       "<Figure size 1008x504 with 1 Axes>"
      ]
     },
     "metadata": {
      "needs_background": "light"
     },
     "output_type": "display_data"
    }
   ],
   "source": [
    "import pandas as pd\n",
    "import statsmodels.api as sm\n",
    "import matplotlib.pyplot as plt\n",
    "\n",
    "# Plotting the original and seasonally adjusted data\n",
    "plt.figure(figsize=(14, 7))\n",
    "plt.plot(quarterly_data['GDP_nominal_R'], label='Original GDP_nominal_R', color='blue')\n",
    "plt.plot(x13_result.seasadj, label='Seasonally Adjusted GDP_nominal_R', color='red', linestyle='--')\n",
    "plt.title('GDP_nominal_R: Original vs Seasonally Adjusted')\n",
    "plt.xlabel('Year and Quarter')\n",
    "plt.ylabel('GDP_nominal_R')\n",
    "plt.legend()\n",
    "plt.grid(True)\n",
    "plt.tight_layout()\n",
    "plt.show()"
   ]
  },
  {
   "cell_type": "code",
   "execution_count": 25,
   "id": "e7a1091a-ef43-4f02-a4ba-73f15114f6d8",
   "metadata": {},
   "outputs": [],
   "source": [
    "#x13_path = '/Users/qnx/MyProjects/Projects/Python/x13as/'\n",
    "x13_path = '/Users/qnx/MyProjects/Projects/Python/x13as_asciisrc-v1-1-b60/'\n",
    "\n",
    "#x13as_asciisrc-v1-1-b60\n",
    "\n",
    "\n",
    "_binary_names = ('x13as.exe', 'x13as', 'x12a.exe', 'x12a',\n",
    "                 'x13as_ascii', 'x13as_html')"
   ]
  },
  {
   "cell_type": "code",
   "execution_count": 7,
   "id": "8b614020-7632-464d-99c0-552a1973acf7",
   "metadata": {
    "tags": []
   },
   "outputs": [
    {
     "data": {
      "text/plain": [
       "'/Users/qnx/MyProjects/Projects/Python/x13as_asciisrc-v1-1-b60/'"
      ]
     },
     "execution_count": 7,
     "metadata": {},
     "output_type": "execute_result"
    }
   ],
   "source": [
    "x13_path"
   ]
  },
  {
   "cell_type": "code",
   "execution_count": 8,
   "id": "7da47e56-5f19-455d-9b53-bdf8ede554e2",
   "metadata": {},
   "outputs": [],
   "source": [
    "from statsmodels.compat.pandas import deprecate_kwarg\n",
    "\n",
    "import os\n",
    "import subprocess\n",
    "import tempfile\n",
    "import re\n",
    "from warnings import warn\n",
    "\n",
    "import pandas as pd\n",
    "\n",
    "def find_x12(x12path=None, prefer_x13=True):\n",
    "    \"\"\"\n",
    "    If x12path is not given, then either x13as[.exe] or x12a[.exe] must\n",
    "    be found on the PATH. Otherwise, the environmental variable X12PATH or\n",
    "    X13PATH must be defined. If prefer_x13 is True, only X13PATH is searched\n",
    "    for. If it is false, only X12PATH is searched for.\n",
    "    \"\"\"\n",
    "    global _binary_names\n",
    "    print(x12path.endswith(_binary_names))\n",
    "    if x12path is not None and x12path.endswith(_binary_names):\n",
    "        # remove binary from path if path is not a directory\n",
    "        print(os.path.dirname(x12path))\n",
    "        if not os.path.isdir(x12path):\n",
    "            x12path = os.path.dirname(x12path)\n",
    "            print(x12path)\n",
    "\n",
    "    if not prefer_x13:  # search for x12 first\n",
    "        _binary_names = _binary_names[::-1]\n",
    "        if x12path is None:\n",
    "            x12path = os.getenv(\"X12PATH\", \"\")\n",
    "        if not x12path:\n",
    "            x12path = os.getenv(\"X13PATH\", \"\")\n",
    "    elif x12path is None:\n",
    "        x12path = os.getenv(\"X13PATH\", \"\")\n",
    "        if not x12path:\n",
    "            x12path = os.getenv(\"X12PATH\", \"\")\n",
    "\n",
    "    for binary in _binary_names:\n",
    "        \n",
    "        x12 = os.path.join(x12path, binary)\n",
    "        print(x12)\n",
    "        try:\n",
    "            subprocess.check_call(x12, stdout=subprocess.PIPE,\n",
    "                                  stderr=subprocess.PIPE)\n",
    "            return x12\n",
    "        except OSError:\n",
    "            print(\"Error: \", OSError)\n",
    "            pass\n",
    "\n",
    "    else:\n",
    "        return False"
   ]
  },
  {
   "cell_type": "code",
   "execution_count": 26,
   "id": "fc1e8f3f-c5e3-4b55-9782-00c91b7805b1",
   "metadata": {},
   "outputs": [
    {
     "name": "stdout",
     "output_type": "stream",
     "text": [
      "False\n",
      "/Users/qnx/MyProjects/Projects/Python/x13as_asciisrc-v1-1-b60/x13as.exe\n",
      "Error:  <class 'OSError'>\n",
      "/Users/qnx/MyProjects/Projects/Python/x13as_asciisrc-v1-1-b60/x13as\n",
      "Error:  <class 'OSError'>\n",
      "/Users/qnx/MyProjects/Projects/Python/x13as_asciisrc-v1-1-b60/x12a.exe\n",
      "Error:  <class 'OSError'>\n",
      "/Users/qnx/MyProjects/Projects/Python/x13as_asciisrc-v1-1-b60/x12a\n",
      "Error:  <class 'OSError'>\n",
      "/Users/qnx/MyProjects/Projects/Python/x13as_asciisrc-v1-1-b60/x13as_ascii\n"
     ]
    },
    {
     "data": {
      "text/plain": [
       "'/Users/qnx/MyProjects/Projects/Python/x13as_asciisrc-v1-1-b60/x13as_ascii'"
      ]
     },
     "execution_count": 26,
     "metadata": {},
     "output_type": "execute_result"
    }
   ],
   "source": [
    "find_x12(x13_path)"
   ]
  },
  {
   "cell_type": "code",
   "execution_count": 16,
   "id": "bb5c2ecc-6266-45be-862a-3fc71e42c79b",
   "metadata": {},
   "outputs": [
    {
     "ename": "KeyError",
     "evalue": "\"None of ['date'] are in the columns\"",
     "output_type": "error",
     "traceback": [
      "\u001b[0;31m---------------------------------------------------------------------------\u001b[0m",
      "\u001b[0;31mKeyError\u001b[0m                                  Traceback (most recent call last)",
      "Input \u001b[0;32mIn [16]\u001b[0m, in \u001b[0;36m<cell line: 1>\u001b[0;34m()\u001b[0m\n\u001b[0;32m----> 1\u001b[0m quarterly_data \u001b[38;5;241m=\u001b[39m \u001b[43mquarterly_data\u001b[49m\u001b[38;5;241;43m.\u001b[39;49m\u001b[43mset_index\u001b[49m\u001b[43m(\u001b[49m\u001b[38;5;124;43m\"\u001b[39;49m\u001b[38;5;124;43mdate\u001b[39;49m\u001b[38;5;124;43m\"\u001b[39;49m\u001b[43m)\u001b[49m\n",
      "File \u001b[0;32m~/opt/anaconda3/envs/dev_0/lib/python3.10/site-packages/pandas/util/_decorators.py:311\u001b[0m, in \u001b[0;36mdeprecate_nonkeyword_arguments.<locals>.decorate.<locals>.wrapper\u001b[0;34m(*args, **kwargs)\u001b[0m\n\u001b[1;32m    305\u001b[0m \u001b[38;5;28;01mif\u001b[39;00m \u001b[38;5;28mlen\u001b[39m(args) \u001b[38;5;241m>\u001b[39m num_allow_args:\n\u001b[1;32m    306\u001b[0m     warnings\u001b[38;5;241m.\u001b[39mwarn(\n\u001b[1;32m    307\u001b[0m         msg\u001b[38;5;241m.\u001b[39mformat(arguments\u001b[38;5;241m=\u001b[39marguments),\n\u001b[1;32m    308\u001b[0m         \u001b[38;5;167;01mFutureWarning\u001b[39;00m,\n\u001b[1;32m    309\u001b[0m         stacklevel\u001b[38;5;241m=\u001b[39mstacklevel,\n\u001b[1;32m    310\u001b[0m     )\n\u001b[0;32m--> 311\u001b[0m \u001b[38;5;28;01mreturn\u001b[39;00m \u001b[43mfunc\u001b[49m\u001b[43m(\u001b[49m\u001b[38;5;241;43m*\u001b[39;49m\u001b[43margs\u001b[49m\u001b[43m,\u001b[49m\u001b[43m \u001b[49m\u001b[38;5;241;43m*\u001b[39;49m\u001b[38;5;241;43m*\u001b[39;49m\u001b[43mkwargs\u001b[49m\u001b[43m)\u001b[49m\n",
      "File \u001b[0;32m~/opt/anaconda3/envs/dev_0/lib/python3.10/site-packages/pandas/core/frame.py:5494\u001b[0m, in \u001b[0;36mDataFrame.set_index\u001b[0;34m(self, keys, drop, append, inplace, verify_integrity)\u001b[0m\n\u001b[1;32m   5491\u001b[0m                 missing\u001b[38;5;241m.\u001b[39mappend(col)\n\u001b[1;32m   5493\u001b[0m \u001b[38;5;28;01mif\u001b[39;00m missing:\n\u001b[0;32m-> 5494\u001b[0m     \u001b[38;5;28;01mraise\u001b[39;00m \u001b[38;5;167;01mKeyError\u001b[39;00m(\u001b[38;5;124mf\u001b[39m\u001b[38;5;124m\"\u001b[39m\u001b[38;5;124mNone of \u001b[39m\u001b[38;5;132;01m{\u001b[39;00mmissing\u001b[38;5;132;01m}\u001b[39;00m\u001b[38;5;124m are in the columns\u001b[39m\u001b[38;5;124m\"\u001b[39m)\n\u001b[1;32m   5496\u001b[0m \u001b[38;5;28;01mif\u001b[39;00m inplace:\n\u001b[1;32m   5497\u001b[0m     frame \u001b[38;5;241m=\u001b[39m \u001b[38;5;28mself\u001b[39m\n",
      "\u001b[0;31mKeyError\u001b[0m: \"None of ['date'] are in the columns\""
     ]
    }
   ],
   "source": [
    "quarterly_data = quarterly_data.set_index(\"date\")"
   ]
  },
  {
   "cell_type": "code",
   "execution_count": 14,
   "id": "04bbd292-b789-4170-b190-68155ed4b82e",
   "metadata": {},
   "outputs": [
    {
     "data": {
      "text/html": [
       "<div>\n",
       "<style scoped>\n",
       "    .dataframe tbody tr th:only-of-type {\n",
       "        vertical-align: middle;\n",
       "    }\n",
       "\n",
       "    .dataframe tbody tr th {\n",
       "        vertical-align: top;\n",
       "    }\n",
       "\n",
       "    .dataframe thead th {\n",
       "        text-align: right;\n",
       "    }\n",
       "</style>\n",
       "<table border=\"1\" class=\"dataframe\">\n",
       "  <thead>\n",
       "    <tr style=\"text-align: right;\">\n",
       "      <th></th>\n",
       "      <th>GDP_nominal_R</th>\n",
       "    </tr>\n",
       "  </thead>\n",
       "  <tbody>\n",
       "    <tr>\n",
       "      <th>0</th>\n",
       "      <td>2464.784597</td>\n",
       "    </tr>\n",
       "    <tr>\n",
       "      <th>1</th>\n",
       "      <td>2755.135153</td>\n",
       "    </tr>\n",
       "    <tr>\n",
       "      <th>2</th>\n",
       "      <td>3282.628439</td>\n",
       "    </tr>\n",
       "    <tr>\n",
       "      <th>3</th>\n",
       "      <td>3297.953297</td>\n",
       "    </tr>\n",
       "    <tr>\n",
       "      <th>4</th>\n",
       "      <td>3106.440187</td>\n",
       "    </tr>\n",
       "    <tr>\n",
       "      <th>...</th>\n",
       "      <td>...</td>\n",
       "    </tr>\n",
       "    <tr>\n",
       "      <th>88</th>\n",
       "      <td>NaN</td>\n",
       "    </tr>\n",
       "    <tr>\n",
       "      <th>89</th>\n",
       "      <td>NaN</td>\n",
       "    </tr>\n",
       "    <tr>\n",
       "      <th>90</th>\n",
       "      <td>NaN</td>\n",
       "    </tr>\n",
       "    <tr>\n",
       "      <th>91</th>\n",
       "      <td>NaN</td>\n",
       "    </tr>\n",
       "    <tr>\n",
       "      <th>92</th>\n",
       "      <td>NaN</td>\n",
       "    </tr>\n",
       "  </tbody>\n",
       "</table>\n",
       "<p>93 rows × 1 columns</p>\n",
       "</div>"
      ],
      "text/plain": [
       "    GDP_nominal_R\n",
       "0     2464.784597\n",
       "1     2755.135153\n",
       "2     3282.628439\n",
       "3     3297.953297\n",
       "4     3106.440187\n",
       "..            ...\n",
       "88            NaN\n",
       "89            NaN\n",
       "90            NaN\n",
       "91            NaN\n",
       "92            NaN\n",
       "\n",
       "[93 rows x 1 columns]"
      ]
     },
     "execution_count": 14,
     "metadata": {},
     "output_type": "execute_result"
    }
   ],
   "source": [
    "quarterly_data[['GDP_nominal_R']]"
   ]
  },
  {
   "cell_type": "code",
   "execution_count": 13,
   "id": "f8be5ab5-b9ff-4143-8b53-38a432c6ee2a",
   "metadata": {},
   "outputs": [
    {
     "ename": "ValueError",
     "evalue": "Only monthly and quarterly periods are supported. Please report or send a pull request if you want this extended.",
     "output_type": "error",
     "traceback": [
      "\u001b[0;31m---------------------------------------------------------------------------\u001b[0m",
      "\u001b[0;31mValueError\u001b[0m                                Traceback (most recent call last)",
      "Input \u001b[0;32mIn [13]\u001b[0m, in \u001b[0;36m<cell line: 3>\u001b[0;34m()\u001b[0m\n\u001b[1;32m      1\u001b[0m X13PATH\u001b[38;5;241m=\u001b[39mx13_path\n\u001b[0;32m----> 3\u001b[0m x13_result \u001b[38;5;241m=\u001b[39m \u001b[43mx13_arima_analysis\u001b[49m\u001b[43m(\u001b[49m\u001b[43mquarterly_data\u001b[49m\u001b[43m[\u001b[49m\u001b[43m[\u001b[49m\u001b[38;5;124;43m'\u001b[39;49m\u001b[38;5;124;43mGDP_nominal_R\u001b[39;49m\u001b[38;5;124;43m'\u001b[39;49m\u001b[43m]\u001b[49m\u001b[43m]\u001b[49m\u001b[43m,\u001b[49m\u001b[43m \u001b[49m\u001b[43mfreq\u001b[49m\u001b[38;5;241;43m=\u001b[39;49m\u001b[38;5;124;43m'\u001b[39;49m\u001b[38;5;124;43mQ\u001b[39;49m\u001b[38;5;124;43m'\u001b[39;49m\u001b[43m,\u001b[49m\n\u001b[1;32m      4\u001b[0m \u001b[43m                                    \u001b[49m\u001b[43mx12path\u001b[49m\u001b[38;5;241;43m=\u001b[39;49m\u001b[43mx13_path\u001b[49m\u001b[43m  \u001b[49m\u001b[38;5;66;43;03m# Provide the path to your x13as binary\u001b[39;49;00m\n\u001b[1;32m      5\u001b[0m \u001b[43m                                    \u001b[49m\u001b[43m)\u001b[49m\n",
      "File \u001b[0;32m~/opt/anaconda3/envs/dev_0/lib/python3.10/site-packages/pandas/util/_decorators.py:207\u001b[0m, in \u001b[0;36mdeprecate_kwarg.<locals>._deprecate_kwarg.<locals>.wrapper\u001b[0;34m(*args, **kwargs)\u001b[0m\n\u001b[1;32m    205\u001b[0m     \u001b[38;5;28;01melse\u001b[39;00m:\n\u001b[1;32m    206\u001b[0m         kwargs[new_arg_name] \u001b[38;5;241m=\u001b[39m new_arg_value\n\u001b[0;32m--> 207\u001b[0m \u001b[38;5;28;01mreturn\u001b[39;00m \u001b[43mfunc\u001b[49m\u001b[43m(\u001b[49m\u001b[38;5;241;43m*\u001b[39;49m\u001b[43margs\u001b[49m\u001b[43m,\u001b[49m\u001b[43m \u001b[49m\u001b[38;5;241;43m*\u001b[39;49m\u001b[38;5;241;43m*\u001b[39;49m\u001b[43mkwargs\u001b[49m\u001b[43m)\u001b[49m\n",
      "File \u001b[0;32m~/opt/anaconda3/envs/dev_0/lib/python3.10/site-packages/statsmodels/tsa/x13.py:428\u001b[0m, in \u001b[0;36mx13_arima_analysis\u001b[0;34m(endog, maxorder, maxdiff, diff, exog, log, outlier, trading, forecast_periods, retspec, speconly, start, freq, print_stdout, x12path, prefer_x13, tempdir)\u001b[0m\n\u001b[1;32m    423\u001b[0m         \u001b[38;5;28;01mraise\u001b[39;00m \u001b[38;5;167;01mValueError\u001b[39;00m(\u001b[38;5;124m\"\u001b[39m\u001b[38;5;124mstart and freq cannot be none if endog is not \u001b[39m\u001b[38;5;124m\"\u001b[39m\n\u001b[1;32m    424\u001b[0m                          \u001b[38;5;124m\"\u001b[39m\u001b[38;5;124ma pandas object\u001b[39m\u001b[38;5;124m\"\u001b[39m)\n\u001b[1;32m    425\u001b[0m     endog \u001b[38;5;241m=\u001b[39m pd\u001b[38;5;241m.\u001b[39mSeries(endog, index\u001b[38;5;241m=\u001b[39mpd\u001b[38;5;241m.\u001b[39mDatetimeIndex(start\u001b[38;5;241m=\u001b[39mstart,\n\u001b[1;32m    426\u001b[0m                                                     periods\u001b[38;5;241m=\u001b[39m\u001b[38;5;28mlen\u001b[39m(endog),\n\u001b[1;32m    427\u001b[0m                                                     freq\u001b[38;5;241m=\u001b[39mfreq))\n\u001b[0;32m--> 428\u001b[0m spec_obj \u001b[38;5;241m=\u001b[39m \u001b[43mpandas_to_series_spec\u001b[49m\u001b[43m(\u001b[49m\u001b[43mendog\u001b[49m\u001b[43m)\u001b[49m\n\u001b[1;32m    429\u001b[0m spec \u001b[38;5;241m=\u001b[39m spec_obj\u001b[38;5;241m.\u001b[39mcreate_spec()\n\u001b[1;32m    430\u001b[0m spec \u001b[38;5;241m+\u001b[39m\u001b[38;5;241m=\u001b[39m \u001b[38;5;124m\"\u001b[39m\u001b[38;5;124mtransform\u001b[39m\u001b[38;5;124m{{\u001b[39m\u001b[38;5;124mfunction=\u001b[39m\u001b[38;5;132;01m{0}\u001b[39;00m\u001b[38;5;124m}}\u001b[39m\u001b[38;5;130;01m\\n\u001b[39;00m\u001b[38;5;124m\"\u001b[39m\u001b[38;5;241m.\u001b[39mformat(_log_to_x12[log])\n",
      "File \u001b[0;32m~/opt/anaconda3/envs/dev_0/lib/python3.10/site-packages/statsmodels/tsa/x13.py:307\u001b[0m, in \u001b[0;36mpandas_to_series_spec\u001b[0;34m(x)\u001b[0m\n\u001b[1;32m    305\u001b[0m     year, stperiod \u001b[38;5;241m=\u001b[39m start_date\u001b[38;5;241m.\u001b[39myear, start_date\u001b[38;5;241m.\u001b[39mquarter\n\u001b[1;32m    306\u001b[0m \u001b[38;5;28;01melse\u001b[39;00m:  \u001b[38;5;66;03m# pragma: no cover\u001b[39;00m\n\u001b[0;32m--> 307\u001b[0m     \u001b[38;5;28;01mraise\u001b[39;00m \u001b[38;5;167;01mValueError\u001b[39;00m(\u001b[38;5;124m\"\u001b[39m\u001b[38;5;124mOnly monthly and quarterly periods are supported.\u001b[39m\u001b[38;5;124m\"\u001b[39m\n\u001b[1;32m    308\u001b[0m                      \u001b[38;5;124m\"\u001b[39m\u001b[38;5;124m Please report or send a pull request if you want \u001b[39m\u001b[38;5;124m\"\u001b[39m\n\u001b[1;32m    309\u001b[0m                      \u001b[38;5;124m\"\u001b[39m\u001b[38;5;124mthis extended.\u001b[39m\u001b[38;5;124m\"\u001b[39m)\n\u001b[1;32m    311\u001b[0m \u001b[38;5;28;01mif\u001b[39;00m \u001b[38;5;28mhasattr\u001b[39m(x, \u001b[38;5;124m'\u001b[39m\u001b[38;5;124mname\u001b[39m\u001b[38;5;124m'\u001b[39m):\n\u001b[1;32m    312\u001b[0m     name \u001b[38;5;241m=\u001b[39m x\u001b[38;5;241m.\u001b[39mname \u001b[38;5;129;01mor\u001b[39;00m \u001b[38;5;124m\"\u001b[39m\u001b[38;5;124mUnnamed Series\u001b[39m\u001b[38;5;124m\"\u001b[39m\n",
      "\u001b[0;31mValueError\u001b[0m: Only monthly and quarterly periods are supported. Please report or send a pull request if you want this extended."
     ]
    }
   ],
   "source": [
    "X13PATH=x13_path\n",
    "\n",
    "x13_result = x13_arima_analysis(quarterly_data[['GDP_nominal_R']],\n",
    "                                    x12path=x13_path  # Provide the path to your x13as binary\n",
    "                                    )\n",
    "  \n"
   ]
  },
  {
   "cell_type": "code",
   "execution_count": null,
   "id": "bed5ffd3-ea29-4a4d-9584-7f4e77c759fe",
   "metadata": {},
   "outputs": [],
   "source": [
    "# Aggregate the monthly calendar data to quarterly frequency\n",
    "calendar_quarterly = calendar_data.resample('Q', on='date').sum()\n",
    "\n",
    "\n",
    "\n"
   ]
  },
  {
   "cell_type": "code",
   "execution_count": null,
   "id": "83790ce1-70fe-4d09-93b9-307661cdcfb9",
   "metadata": {},
   "outputs": [],
   "source": [
    "def seasonal_adjustment_with_x13(data, calendar_data, target_variable):\n",
    "    # Aggregate the monthly calendar data to quarterly frequency\n",
    "    calendar_quarterly = calendar_data#calendar_data.resample('Q', on='date').sum()\n",
    "    x13_path = '/Users/qnx/MyProjects/Projects/Python/x13as2/'\n",
    "    \n",
    "\n",
    "    # Merge the aggregated calendar data with the main data\n",
    "    merged_data = pd.merge(data, calendar_quarterly, left_on='Date', right_on='date', how='left')\n",
    "\n",
    "    # Seasonal adjustment with x13_arima_analysis\n",
    "    # Note: This requires the X-13ARIMA-SEATS software to be installed locally\n",
    "    x13_result = x13_arima_analysis(merged_data[target_variable], \n",
    "                                    x12path=x13_path,  # Provide the path to your x13as binary\n",
    "                                    exog = ['working', 'leap'])\n",
    "    \n",
    "    # Extract the seasonally adjusted series\n",
    "    merged_data[f'{target_variable}_adjusted'] = x13_result.seasadj\n",
    "    \n",
    "    return merged_data\n",
    "\n",
    "\n",
    "\n"
   ]
  },
  {
   "cell_type": "markdown",
   "id": "9231c228-ff72-431c-8984-ca370b2b54ad",
   "metadata": {},
   "source": [
    "Important Notes:\n",
    "\n",
    "You need to replace '/path/to/x13as' with the path to the X-13ARIMA-SEATS binary on your machine.\n",
    "Ensure you have statsmodels installed (pip install statsmodels).\n",
    "This code assumes you have the X-13ARIMA-SEATS software installed on your machine. If you don't have it, you can download it from the official US Census Bureau website.\n",
    "Make sure to read your data into the variables quarterly_data and calendar_data before running the function.\n",
    "This should give you a starting point for running seasonal adjustments locally. Adjust the code as needed based on your specific requirements and setup.\n",
    "\n"
   ]
  },
  {
   "cell_type": "code",
   "execution_count": null,
   "id": "08f4c880-433e-48b1-8462-c41f70d4a611",
   "metadata": {},
   "outputs": [],
   "source": [
    "\n",
    "# Assuming you've read your data into the variables 'quarterly_data' and 'calendar_data'\n",
    "adjusted_data = seasonal_adjustment_with_x13(quarterly_data, calendar_quarterly, 'GDP_nominal_R')\n",
    "\n",
    "print(adjusted_data[['Date', 'GDP_nominal_R', 'GDP_nominal_R_adjusted']])\n",
    "\n"
   ]
  },
  {
   "cell_type": "code",
   "execution_count": null,
   "id": "88501e2d-288e-44e8-8565-b1c4a14e62c0",
   "metadata": {},
   "outputs": [],
   "source": [
    "# Function to perform seasonal adjustment using X-13ARIMA-SEATS\n",
    "def adjust_series(series, name, exog=None):\n",
    "    try:\n",
    "        result = x13_arima_analysis(series, exog=exog)\n",
    "        print('seasonal adjustment ok: ', name)\n",
    "        return result.seasadj\n",
    "    except Exception as e:\n",
    "        print('seasonal adjustment error: ', name,' ', e)\n",
    "        return series  # If adjustment fails, return the original series\n"
   ]
  },
  {
   "cell_type": "code",
   "execution_count": null,
   "id": "6d313524-f4cc-45f9-a4c4-cfbb4bdbc8c7",
   "metadata": {},
   "outputs": [],
   "source": [
    "# Exogenous variables\n",
    "exog_vars = calendar_data #merged_data[['working', 'leap']]\n",
    "\n",
    "# Storing adjusted series\n",
    "adjusted_data = {}\n",
    "for column in quarterly_data.columns:\n",
    "    if column != \"Date\":  # Exclude the Date column\n",
    "        adjusted_data[column] = adjust_series(quarterly_data[column], name=column, exog=exog_vars)\n",
    "\n",
    "# Convert the dictionary to a DataFrame\n",
    "adjusted_df = pd.DataFrame(adjusted_data)\n",
    "adjusted_df.insert(0, \"Date\", quarterly_data[\"Date\"])  # Inserting the Date column\n"
   ]
  },
  {
   "cell_type": "code",
   "execution_count": null,
   "id": "5607cebc-d2f9-43cc-aaad-cbf39052545c",
   "metadata": {},
   "outputs": [],
   "source": [
    "adjusted_df.tail()"
   ]
  },
  {
   "cell_type": "code",
   "execution_count": null,
   "id": "f260079b-08ee-4a5a-97a9-eaf6a0a90215",
   "metadata": {},
   "outputs": [],
   "source": [
    "# Saving the adjusted data to a new sheet in the Excel file\n",
    "with pd.ExcelWriter(import_file_path, mode='a', engine='openpyxl') as writer:\n",
    "    adjusted_df.to_excel(writer, index=False, sheet_name='quarterly_sa')\n"
   ]
  },
  {
   "cell_type": "code",
   "execution_count": null,
   "id": "0ba950b0-5712-4e57-a5ae-7ab1da2e2986",
   "metadata": {},
   "outputs": [],
   "source": [
    "# Plotting initial GDP_real series and its seasonal adjustment\n",
    "plt.figure(figsize=(14, 7))\n",
    "plt.plot(quarterly_data[\"Date\"], quarterly_data[\"GDP_real\"], label=\"Initial GDP_real\", color='blue')\n",
    "plt.plot(adjusted_df[\"Date\"], adjusted_df[\"GDP_real\"], label=\"Seasonally Adjusted GDP_real\", color='red', linestyle='--')\n",
    "plt.title(\"Initial vs Seasonally Adjusted GDP_real\")\n",
    "plt.xlabel(\"Date\")\n",
    "plt.ylabel(\"GDP_real\")\n",
    "plt.legend()\n",
    "plt.grid(True)\n",
    "plt.tight_layout()\n",
    "plt.show()"
   ]
  },
  {
   "cell_type": "code",
   "execution_count": null,
   "id": "cec42e81-2f5c-4164-a88a-5de79979cec6",
   "metadata": {},
   "outputs": [],
   "source": []
  }
 ],
 "metadata": {
  "kernelspec": {
   "display_name": "dev_0",
   "language": "python",
   "name": "dev_0"
  },
  "language_info": {
   "codemirror_mode": {
    "name": "ipython",
    "version": 3
   },
   "file_extension": ".py",
   "mimetype": "text/x-python",
   "name": "python",
   "nbconvert_exporter": "python",
   "pygments_lexer": "ipython3",
   "version": "3.10.4"
  }
 },
 "nbformat": 4,
 "nbformat_minor": 5
}
