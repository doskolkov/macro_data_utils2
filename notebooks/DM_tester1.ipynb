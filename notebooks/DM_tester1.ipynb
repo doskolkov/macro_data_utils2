{
 "cells": [
  {
   "cell_type": "code",
   "execution_count": 1,
   "id": "145d8530-04fc-477c-9db7-e906f9831581",
   "metadata": {},
   "outputs": [],
   "source": [
    "%load_ext autoreload\n",
    "%autoreload 2"
   ]
  },
  {
   "cell_type": "markdown",
   "id": "e2dd2a53-fcf1-4afb-b885-7953d50d2cab",
   "metadata": {},
   "source": [
    "# DataManager: update models and charts for DB"
   ]
  },
  {
   "cell_type": "markdown",
   "id": "0d82c678-1b05-423a-bc2c-f3aa80a11d21",
   "metadata": {},
   "source": [
    "Version 2.0  \n",
    "Based on R version "
   ]
  },
  {
   "cell_type": "code",
   "execution_count": 2,
   "id": "33b62d45-8570-4f9a-93df-8a803a0f5373",
   "metadata": {},
   "outputs": [],
   "source": [
    "from IPython.display import Markdown, display\n",
    "import pandas as pd\n",
    "from pathlib import Path\n",
    "from datetime import datetime\n",
    "\n",
    "import ModelManager as dm\n",
    "\n",
    "#from Axiom.SME.sql_model import Region, Industry, Opf\n",
    "%config InlineBackend.figure_format = 'retina'"
   ]
  },
  {
   "cell_type": "code",
   "execution_count": 3,
   "id": "4ad9f85a-8cbe-4bae-803c-3df6f0565b66",
   "metadata": {},
   "outputs": [
    {
     "name": "stdout",
     "output_type": "stream",
     "text": [
      "2023-10-23 12:35:01,337 - DataExcel - INFO - Set path to: ..\n"
     ]
    }
   ],
   "source": [
    "sme_dm = dm.DataExcel() #set up Data Manager for SME\n",
    "(MAIN_PATH, DATA_PATH) = sme_dm.set_working_path()\n",
    "\n",
    "RAW_DATA_PATH = DATA_PATH / 'raw'\n",
    "PROC_DATA_PATH = DATA_PATH / 'processed'\n",
    "EXT_DATA_PATH = DATA_PATH / 'external'\n",
    "MODEL_PATH = MAIN_PATH / 'models'\n",
    "\n",
    "model_name = \"Kazakhstan_Model.xlsm\""
   ]
  },
  {
   "cell_type": "code",
   "execution_count": 4,
   "id": "96e37c2f-e637-462d-92b9-2b3be63a9580",
   "metadata": {},
   "outputs": [],
   "source": [
    "model = dm.ModelManager(MODEL_PATH/model_name)"
   ]
  },
  {
   "cell_type": "code",
   "execution_count": 5,
   "id": "cd6c11f7-06bc-4b2a-b6c7-b0562e468963",
   "metadata": {},
   "outputs": [
    {
     "name": "stdout",
     "output_type": "stream",
     "text": [
      "2023-10-23 12:35:05,809 - Model - INFO - Read excel file: ../models/Kazakhstan_Model.xlsm sheet: input\n"
     ]
    },
    {
     "ename": "AttributeError",
     "evalue": "'ModelManager' object has no attribute 'db_path'",
     "output_type": "error",
     "traceback": [
      "\u001b[0;31m---------------------------------------------------------------------------\u001b[0m",
      "\u001b[0;31mAttributeError\u001b[0m                            Traceback (most recent call last)",
      "Input \u001b[0;32mIn [5]\u001b[0m, in \u001b[0;36m<cell line: 1>\u001b[0;34m()\u001b[0m\n\u001b[0;32m----> 1\u001b[0m \u001b[43mmodel\u001b[49m\u001b[38;5;241;43m.\u001b[39;49m\u001b[43mget_model_inputs\u001b[49m\u001b[43m(\u001b[49m\u001b[43m)\u001b[49m\n",
      "File \u001b[0;32m~/MyProjects/Projects/Python/macro_data_utils2/ModelManager/ModelManager.py:46\u001b[0m, in \u001b[0;36mModelManager.get_model_inputs\u001b[0;34m(self, return_method_output)\u001b[0m\n\u001b[1;32m     44\u001b[0m inputs_sheet \u001b[38;5;241m=\u001b[39m \u001b[38;5;28mself\u001b[39m\u001b[38;5;241m.\u001b[39mload_excel(\u001b[38;5;28mself\u001b[39m\u001b[38;5;241m.\u001b[39mmodel_path, \u001b[38;5;124m'\u001b[39m\u001b[38;5;124minput\u001b[39m\u001b[38;5;124m'\u001b[39m)\n\u001b[1;32m     45\u001b[0m \u001b[38;5;66;03m#pd.read_excel(self.model_path, sheet_name='input')\u001b[39;00m\n\u001b[0;32m---> 46\u001b[0m var_list \u001b[38;5;241m=\u001b[39m pd\u001b[38;5;241m.\u001b[39mread_excel(\u001b[38;5;28;43mself\u001b[39;49m\u001b[38;5;241;43m.\u001b[39;49m\u001b[43mdb_path\u001b[49m, sheet_name\u001b[38;5;241m=\u001b[39m\u001b[38;5;124m'\u001b[39m\u001b[38;5;124mvar_list\u001b[39m\u001b[38;5;124m'\u001b[39m)\n\u001b[1;32m     48\u001b[0m var_list_columns \u001b[38;5;241m=\u001b[39m mif\u001b[38;5;241m.\u001b[39mInputInfoCols\n\u001b[1;32m     49\u001b[0m inputs_sheet \u001b[38;5;241m=\u001b[39m inputs_sheet\u001b[38;5;241m.\u001b[39mmerge(var_list[var_list_columns], how\u001b[38;5;241m=\u001b[39m\u001b[38;5;124m'\u001b[39m\u001b[38;5;124mleft\u001b[39m\u001b[38;5;124m'\u001b[39m, left_on\u001b[38;5;241m=\u001b[39mmif\u001b[38;5;241m.\u001b[39mInputInfoCols,\n\u001b[1;32m     50\u001b[0m                                   right_on\u001b[38;5;241m=\u001b[39mmif\u001b[38;5;241m.\u001b[39mInputInfoCols)\n",
      "\u001b[0;31mAttributeError\u001b[0m: 'ModelManager' object has no attribute 'db_path'"
     ]
    }
   ],
   "source": [
    "model.get_model_inputs()"
   ]
  },
  {
   "cell_type": "code",
   "execution_count": null,
   "id": "d007370f-28b8-42d6-9199-b7223832a61e",
   "metadata": {},
   "outputs": [],
   "source": [
    "import pandas as pd\n",
    "import numpy as np\n",
    "\n",
    "import warnings\n",
    "import random\n",
    "warnings.filterwarnings(\"ignore\")\n",
    "\n",
    "import datetime\n",
    "from datetime import timedelta\n",
    "from dateutil.relativedelta import *"
   ]
  },
  {
   "cell_type": "code",
   "execution_count": null,
   "id": "4a8784e7-71b3-4719-a481-f700c2b08f50",
   "metadata": {},
   "outputs": [],
   "source": [
    "import sys; sys.path.insert(0, '..')\n",
    "from DataManage.ModelManager import ModelManager\n",
    "\n",
    "model = ModelManager('Kazakhstan_Model.xlsm')\n"
   ]
  },
  {
   "cell_type": "code",
   "execution_count": null,
   "id": "61eec71f-924e-4098-ab6c-19fdfbe09b29",
   "metadata": {},
   "outputs": [],
   "source": [
    "model.get_model_inputs()"
   ]
  },
  {
   "cell_type": "code",
   "execution_count": null,
   "id": "ea1e3b2b-b3d5-4df3-b759-a7b08c1c555b",
   "metadata": {},
   "outputs": [],
   "source": [
    "import sys; sys.path.insert(0, '..')\n",
    "\n",
    "#from myproject.main import hello\n",
    "from New_code.DataManager import InputHandler"
   ]
  },
  {
   "cell_type": "code",
   "execution_count": null,
   "id": "f5de9b7c-ec2d-459f-a1cd-58af13f4b8aa",
   "metadata": {},
   "outputs": [],
   "source": [
    "from New_code.DataManager import InputHandler\n",
    "from Utils.information import INFO as info\n",
    "from Utils.information import ModelInputInfoFields as mif\n",
    "from Utils.information import ModelOutputUnits as mou\n",
    "\n",
    "from New_code.TimeSeriesTransformations import type_transformations, normalization_transformations, frequency_transformations\n",
    "from New_code.TimeSeriesTransformations import FrequencyException\n"
   ]
  },
  {
   "cell_type": "markdown",
   "id": "6190776e-3106-4404-9714-a8451223f3c4",
   "metadata": {},
   "source": [
    "## Run for Kazakh"
   ]
  },
  {
   "cell_type": "code",
   "execution_count": null,
   "id": "75fa42dc-c2d9-42da-9b67-680a40df8257",
   "metadata": {},
   "outputs": [],
   "source": [
    "mode_path = 'Kazakhstan_Model.xlsm'\n",
    "IH = InputHandler(mode_path)"
   ]
  },
  {
   "cell_type": "code",
   "execution_count": null,
   "id": "09093f68-6ee4-4099-9ef6-c25199527d22",
   "metadata": {},
   "outputs": [],
   "source": [
    "IH.model_path"
   ]
  },
  {
   "cell_type": "code",
   "execution_count": null,
   "id": "e890135c-494a-4092-b158-19304b6ff08b",
   "metadata": {},
   "outputs": [],
   "source": [
    "IH.get_model_inputs()"
   ]
  },
  {
   "cell_type": "code",
   "execution_count": null,
   "id": "9320e770-fb6f-4463-bcb4-2c0933e9f707",
   "metadata": {},
   "outputs": [],
   "source": [
    "\n",
    "\n",
    "IH.get_model_data()\n",
    "IH.perform_data_transformation()\n",
    "IH.put_model_data()"
   ]
  },
  {
   "cell_type": "markdown",
   "id": "6b88d97f-ae18-4c10-b775-f972eeb100ce",
   "metadata": {},
   "source": [
    "## Test unit"
   ]
  },
  {
   "cell_type": "code",
   "execution_count": null,
   "id": "d2432604-e67a-4412-8e83-b481384bdf72",
   "metadata": {},
   "outputs": [],
   "source": [
    "\n",
    "\n",
    "random.seed(20)\n",
    "rand_indexes = [random.randint(1,361) for t in range(1,51,1)]\n",
    "\n",
    "sd = datetime.datetime(1996,12,31)\n",
    "nd = datetime.datetime(1998,12,31)\n",
    "dates = [sd]\n",
    "init_val = 1\n",
    "vals = [init_val]\n",
    "for t in range(1, 360, 1):\n",
    "    dates.append(sd+relativedelta(months=+1*t))\n",
    "    # dates = [datetime.datetime.fromtimestamp(d) for d in dates]\n",
    "    vals.append(vals[-1]*(1+0.005))\n",
    "for t in rand_indexes:\n",
    "    vals[t] = None\n",
    "sample_ts = pd.DataFrame({'dates': dates, 'vals': vals}).set_index('dates')['vals']\n",
    "null_ts = sample_ts.apply(lambda x: None)\n",
    "\n",
    "\n",
    "month_ts = sample_ts\n",
    "null_month_ts = null_ts\n",
    "\n",
    "vals = [init_val]\n",
    "dates = [sd]\n",
    "for t in range(1, 900,1):\n",
    "    dates.append(sd+relativedelta(days=+1*t))\n",
    "    # dates = [datetime.datetime.fromtimestamp(d) for d in dates]\n",
    "    vals.append(vals[-1]*(1+0.005))\n",
    "for t in rand_indexes:\n",
    "    vals[t] = None\n",
    "day_ts = pd.DataFrame({'dates': dates, 'vals': vals}).set_index('dates')['vals']\n",
    "null_day_ts = day_ts.apply(lambda x: None)\n",
    "\n",
    "vals = [init_val]\n",
    "dates = [sd]\n",
    "for t in range(1, 360,1):\n",
    "    dates.append(sd+relativedelta(weeks=+1*t))\n",
    "    # dates = [datetime.datetime.fromtimestamp(d) for d in dates]\n",
    "    vals.append(vals[-1]*(1+0.005))\n",
    "for t in rand_indexes:\n",
    "    vals[t] = None\n",
    "week_ts = pd.DataFrame({'dates': dates, 'vals': vals}).set_index('dates')['vals']\n",
    "null_week_ts = week_ts.apply(lambda x: None)\n",
    "\n",
    "vals = [init_val]\n",
    "dates = [sd]\n",
    "for t in range(1, 360,1):\n",
    "    dates.append(sd+relativedelta(months=+3*t))\n",
    "    # dates = [datetime.datetime.fromtimestamp(d) for d in dates]\n",
    "    vals.append(vals[-1]*(1+0.005))\n",
    "for t in rand_indexes:\n",
    "    vals[t] = None\n",
    "quart_ts = pd.DataFrame({'dates': dates, 'vals': vals}).set_index('dates')['vals']\n",
    "null_quart_ts = quart_ts.apply(lambda x: None)\n",
    "\n",
    "vals = [init_val]\n",
    "dates = [sd]\n",
    "for t in range(1, 360,1):\n",
    "    dates.append(sd+relativedelta(years=+1*t))\n",
    "    vals.append(vals[-1]*(1+0.005))\n",
    "for t in rand_indexes:\n",
    "    vals[t] = None\n",
    "year_ts = pd.DataFrame({'dates': dates, 'vals': vals}).set_index('dates')['vals']\n",
    "null_year_ts = year_ts.apply(lambda x: None)\n",
    "\n",
    "instance_dict = {\n",
    "    'type':type_transformations(),\n",
    "    'norm':normalization_transformations(),\n",
    "    'freq':frequency_transformations()\n",
    "}\n",
    "\n",
    "def test_transform_method(sample_ts,null_ts,instance,method, norm_date = None):\n",
    "\n",
    "    config = instance_dict.get(instance).get_config()\n",
    "    ap_method = config.get(method)\n",
    "    if instance == 'type':\n",
    "        res = ap_method(sample_ts)\n",
    "        null_res = ap_method(null_ts)\n",
    "    elif instance == 'norm':\n",
    "        res = ap_method(sample_ts, norm_date)\n",
    "        null_res = ap_method(null_ts, norm_date)\n",
    "    elif instance == 'freq':\n",
    "        res = ap_method(sample_ts)\n",
    "        null_res = ap_method(null_ts)\n",
    "    return res, null_res\n",
    "# test_transform_method(sample_ts)\n",
    "# res = instance_dict.get('freq').get_series_frequency(day_ts)\n",
    "# res, null_res = test_transform_method(sample_ts, null_ts, 'freq','index', norm_date=nd)\n",
    "# ft_key = \"weekly_sum\"\n",
    "# res, null_res = test_transform_method(day_ts, null_day_ts, instance='freq', method = ft_key)\n",
    "#\n",
    "# test_result = pd.DataFrame({'sample':day_ts,'sample_res':res,'null':null_day_ts,'null_res':null_res})\n",
    "\n"
   ]
  }
 ],
 "metadata": {
  "kernelspec": {
   "display_name": "dev_0",
   "language": "python",
   "name": "dev_0"
  },
  "language_info": {
   "codemirror_mode": {
    "name": "ipython",
    "version": 3
   },
   "file_extension": ".py",
   "mimetype": "text/x-python",
   "name": "python",
   "nbconvert_exporter": "python",
   "pygments_lexer": "ipython3",
   "version": "3.10.4"
  }
 },
 "nbformat": 4,
 "nbformat_minor": 5
}
